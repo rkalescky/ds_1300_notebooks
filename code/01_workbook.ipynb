{
 "cells": [
  {
   "cell_type": "markdown",
   "id": "10445efa",
   "metadata": {},
   "source": [
    "# Introduction to Python Programming\n"
   ]
  },
  {
   "cell_type": "markdown",
   "id": "3b2a299e",
   "metadata": {},
   "source": [
    "By: Dr. Eric Godat and Dr. Rob Kalescky "
   ]
  },
  {
   "cell_type": "markdown",
   "id": "39ff473f",
   "metadata": {},
   "source": [
    "# Intro to Python Basics"
   ]
  },
  {
   "cell_type": "markdown",
   "id": "464dc011",
   "metadata": {},
   "source": [
    "*This section is designed to guide you from having never used Python before to feeling comfortable with basic operations.*\n",
    "\n",
    "Python is a programming language capable of just about anything you could want to do. It is designed to be human readable and robust. This particular document is called a Jupyter Notebook. Notebooks are tools for developing Python code and running that code in small steps and see the intermediate results in line."
   ]
  },
  {
   "cell_type": "markdown",
   "id": "ba1af7e9",
   "metadata": {},
   "source": [
    "## Operating this notebook"
   ]
  },
  {
   "cell_type": "markdown",
   "id": "d2d83bbc",
   "metadata": {},
   "source": [
    "To operate this notebook, you will need to execute boxes of code, called cells. To do this you can either click the *Run* button on the toolbar or use [Shift]+[Enter].\n",
    "\n",
    "Throughout this notebook you will see cells that are not code (like this one). These cells contain text in a language called Markdown. You can execute these cells to render formatted text. A cheatsheet for Markdown can be found by clicking `Help -> Markdown Reference` or articles [like this](https://medium.com/analytics-vidhya/the-ultimate-markdown-guide-for-jupyter-notebook-d5e5abf728fd). There will also be comments with in the code itself that give additional information about the operation of the code, describe functions or show you places where you might want to make changes. These comments are always preceded by an octothorp (#) and in most cases be a different color from the surrounding text.\n",
    "\n",
    "Notebooks save automatically, however if you have made big changes your code, you can checkpoint it. This allows you to roll back changes to this point (or any previous checkpoints) should something break in the future.\n",
    "\n",
    "There are a few useful [keyboard shortcuts](https://gist.github.com/discdiver/9e00618756d120a8c9fa344ac1c375ac) for modifying the cells in a notebook. To use these, click on the far left side of the cell such that the outline changes color (to blue in most cases), press [Enter]] to return to editing the cell's contents.\n",
    "\n",
    "-Add a cell **a**bove the current cell   [A]\n",
    "\n",
    "-Add a cell **b**elow the current cell   [B]\n",
    "\n",
    "-**D**elete the current cell   [D,D]\n",
    "\n",
    "**Let's try it out!**"
   ]
  },
  {
   "cell_type": "markdown",
   "id": "dcaba9f0",
   "metadata": {},
   "source": [
    "### Basic Math"
   ]
  },
  {
   "cell_type": "markdown",
   "id": "4275e9b0",
   "metadata": {},
   "source": [
    "Python can do simple mathematical operations just like a calculator. Try executing the following cells."
   ]
  },
  {
   "cell_type": "code",
   "execution_count": null,
   "id": "66cfd1d9",
   "metadata": {},
   "outputs": [],
   "source": [
    "1+1"
   ]
  },
  {
   "cell_type": "code",
   "execution_count": null,
   "id": "b68f6f8a",
   "metadata": {},
   "outputs": [],
   "source": [
    "2.5-2.0"
   ]
  },
  {
   "cell_type": "markdown",
   "id": "19cc20dc",
   "metadata": {},
   "source": [
    "## Variables and Objects"
   ]
  },
  {
   "cell_type": "markdown",
   "id": "0c19675f",
   "metadata": {},
   "source": [
    "Calculations are nice but we really want to be able to store our calculations in memory so that we can access them later. We do that by assigning variables. "
   ]
  },
  {
   "cell_type": "code",
   "execution_count": null,
   "id": "22f7e112",
   "metadata": {},
   "outputs": [],
   "source": [
    "a=2\n",
    "b=3"
   ]
  },
  {
   "cell_type": "code",
   "execution_count": null,
   "id": "99b317e7",
   "metadata": {},
   "outputs": [],
   "source": [
    "a+b"
   ]
  },
  {
   "cell_type": "markdown",
   "id": "c0a8b317",
   "metadata": {},
   "source": [
    "Variables can be named just about anything"
   ]
  },
  {
   "cell_type": "code",
   "execution_count": null,
   "id": "f2c36843",
   "metadata": {},
   "outputs": [],
   "source": [
    "Dallas=2\n",
    "SMU=7\n",
    "texas_TX=3"
   ]
  },
  {
   "cell_type": "code",
   "execution_count": null,
   "id": "6dad003e",
   "metadata": {},
   "outputs": [],
   "source": [
    "#Notice that if we assign a value to a variable, our notebook won't return that value to our screen.\n",
    "#If we want it to show us the value, we can call that variable after it is assigned.\n",
    "ouranswer = SMU*Dallas*texas_TX\n",
    "ouranswer"
   ]
  },
  {
   "cell_type": "markdown",
   "id": "9b9cbfde",
   "metadata": {},
   "source": [
    "So far we have been doing all of our operations on numbers, integers and floats (decimals), but there are other useful objects we can use in Python.\n",
    "\n",
    "Strings allow us to store and operate on text data. Strings in Python are surrounded by either single quotes '' or double quotes \"\"."
   ]
  },
  {
   "cell_type": "code",
   "execution_count": null,
   "id": "77df57b5",
   "metadata": {},
   "outputs": [],
   "source": [
    "ourstring = \"Here is a string in Python!\"\n",
    "ourstring"
   ]
  },
  {
   "cell_type": "markdown",
   "id": "2fff614b",
   "metadata": {},
   "source": [
    "If we later want to see the value stored in a variable we can always use the built in **print** function. **Print** is recognized as a keyword by our notebook and so the color changes to make our lives as programmers easier."
   ]
  },
  {
   "cell_type": "code",
   "execution_count": null,
   "id": "8d62489b",
   "metadata": {},
   "outputs": [],
   "source": [
    "print(ourstring)"
   ]
  },
  {
   "cell_type": "markdown",
   "id": "7908238d",
   "metadata": {},
   "source": [
    "What if we want to have multiple strings stored at once but we don't want to assign a bunch of variables? Then we can use a list.\n",
    "\n",
    "Lists are enclosed by brackets [] and separated by commas."
   ]
  },
  {
   "cell_type": "code",
   "execution_count": null,
   "id": "07c73a90",
   "metadata": {},
   "outputs": [],
   "source": [
    "ourlist = ['This', 'is', \"a\", \"list\", 'of', \"strings\"]"
   ]
  },
  {
   "cell_type": "code",
   "execution_count": null,
   "id": "0bac7392",
   "metadata": {},
   "outputs": [],
   "source": [
    "print(ourlist)"
   ]
  },
  {
   "cell_type": "markdown",
   "id": "c8aad3c5",
   "metadata": {},
   "source": [
    "To access individual elements in a list you call it by its reference number.\n",
    "\n",
    "*__Note:__ In Python, counting starts with 0. Thus in the list [a,b,c], a is the 0th element and c is the 2nd*"
   ]
  },
  {
   "cell_type": "code",
   "execution_count": null,
   "id": "9665c165",
   "metadata": {},
   "outputs": [],
   "source": [
    "first = ourlist[0]"
   ]
  },
  {
   "cell_type": "code",
   "execution_count": null,
   "id": "3aaa8350",
   "metadata": {},
   "outputs": [],
   "source": [
    "# Notice we can call the last element by using a negative reference number. This lets us see the end without knowing how long the list is.\n",
    "last = ourlist[-1]"
   ]
  },
  {
   "cell_type": "code",
   "execution_count": null,
   "id": "b9ae2045",
   "metadata": {},
   "outputs": [],
   "source": [
    "print(first,last)"
   ]
  },
  {
   "cell_type": "code",
   "execution_count": null,
   "id": "8a163e0d",
   "metadata": {},
   "outputs": [],
   "source": [
    "# If we did want to know the length of our list we can use the len() function\n",
    "len(ourlist)"
   ]
  },
  {
   "cell_type": "markdown",
   "id": "beeb7621",
   "metadata": {},
   "source": [
    "### Dictionaries"
   ]
  },
  {
   "cell_type": "markdown",
   "id": "15aa2d2e",
   "metadata": {},
   "source": [
    "Dictionaries are a different way of storing data than lists. They rely on a key and value system as opposed to the order of the entries.\n",
    "\n",
    "Dictionaries are enclosed in curly braces {}, the key and value are separated by a colon : and entries are separated by commas ,\n",
    "\n",
    "Values can then be accessed by referencing the key.\n",
    "\n",
    "*__Note:__ Finding dictionary values does not go both ways, so using the value to find the key will cause an error.*"
   ]
  },
  {
   "cell_type": "code",
   "execution_count": null,
   "id": "6614dd28",
   "metadata": {},
   "outputs": [],
   "source": [
    "ourdictionary = {\"Dallas\":1345000,\"Taos\":5668,'Houston':2326000}\n",
    "ourdictionary"
   ]
  },
  {
   "cell_type": "code",
   "execution_count": null,
   "id": "a3b30f3a",
   "metadata": {},
   "outputs": [],
   "source": [
    "ourdictionary[\"Taos\"] \n",
    "#NOTE: ourdictionary[5668] will NOT give you \"Taos\", but an error."
   ]
  },
  {
   "cell_type": "markdown",
   "id": "f02392d3",
   "metadata": {},
   "source": [
    "## Loops and Functions"
   ]
  },
  {
   "cell_type": "markdown",
   "id": "aab9d137",
   "metadata": {},
   "source": [
    "Computers are much better at doing simple repeatable tasks than humans are so to leverage this advantage, we will cover two different ways of writing these kind of repeatable instructions."
   ]
  },
  {
   "cell_type": "markdown",
   "id": "dbdcc3d4",
   "metadata": {},
   "source": [
    "### Loops"
   ]
  },
  {
   "cell_type": "markdown",
   "id": "b64bb7ce",
   "metadata": {},
   "source": [
    "Loops are a way of having Python complete a task over and over.\n",
    "\n",
    "The most common form if a **for** loop. A **for** loop completes a task a fixed number of times by iterating a variable over the members of a sequence in order."
   ]
  },
  {
   "cell_type": "code",
   "execution_count": null,
   "id": "2c2177c3",
   "metadata": {},
   "outputs": [],
   "source": [
    "#Example for loop\n",
    "for i in [0,1,2]:\n",
    "    print(i)"
   ]
  },
  {
   "cell_type": "markdown",
   "id": "e987b6b7",
   "metadata": {},
   "source": [
    "*__Note__: The indention is important, it tells Python that the line *print(i)* belongs inside the loop.*"
   ]
  },
  {
   "cell_type": "markdown",
   "id": "bcf3cf73",
   "metadata": {},
   "source": [
    "### Functions"
   ]
  },
  {
   "cell_type": "markdown",
   "id": "4f79612f",
   "metadata": {},
   "source": [
    "Sometimes it would be nice to be able to save a group of instructions in a single block, that way we won't need to rewrite several lines of code each time we want to do that set of operations.\n",
    "\n",
    "To do this we define a **function**.\n",
    "\n",
    "Functions allow us to define a more complicated set of instructions as a single entity and call that entire block of code directly.\n",
    "\n",
    "Functions are defined (*def*), named (lowercase is a standard practice) and accept arguments (). They then can return a value if needed (*return*).\n",
    "\n",
    "Python has several built in functions (*print()* is a good example) and when you combine external packages and libraries, there are functions for just about everything you could think of."
   ]
  },
  {
   "cell_type": "code",
   "execution_count": null,
   "id": "9a1d2de2",
   "metadata": {},
   "outputs": [],
   "source": [
    "# Example function\n",
    "def square_me(n):\n",
    "    return n*n"
   ]
  },
  {
   "cell_type": "code",
   "execution_count": null,
   "id": "ebac5867",
   "metadata": {},
   "outputs": [],
   "source": [
    "square_me(4)"
   ]
  },
  {
   "cell_type": "markdown",
   "id": "be61fb76",
   "metadata": {},
   "source": [
    ">**Discussion**: What is something that you do over and over again?\n",
    ">Is that task something you could use a *loop* for or a *function* for?"
   ]
  },
  {
   "cell_type": "markdown",
   "id": "98370283",
   "metadata": {},
   "source": [
    "Putting loops and functions together is where python can become very powerful."
   ]
  },
  {
   "cell_type": "code",
   "execution_count": null,
   "id": "d24d5459",
   "metadata": {},
   "outputs": [],
   "source": [
    "# Looping over a function\n",
    "for i in [0,1,2,3]:\n",
    "    print(square_me(i)) # note that this is still tabbed in within the for loop"
   ]
  },
  {
   "cell_type": "code",
   "execution_count": null,
   "id": "bebe90d0",
   "metadata": {},
   "outputs": [],
   "source": [
    "# A function with a loop\n",
    "def print_numbers(start,stop):\n",
    "    for i in range(start,stop): #Here the range() function gives us all the values from start up to but excluding the stop value\n",
    "        print(i) # this is indented twice, so Python knows it is within the loop within the function"
   ]
  },
  {
   "cell_type": "code",
   "execution_count": null,
   "id": "f6d7122a",
   "metadata": {},
   "outputs": [],
   "source": [
    "print_numbers(0,4)"
   ]
  },
  {
   "cell_type": "markdown",
   "id": "a57e1130",
   "metadata": {},
   "source": [
    "# Libraries"
   ]
  },
  {
   "cell_type": "markdown",
   "id": "b6c9c4a6",
   "metadata": {},
   "source": [
    "Libraries are pre-written chunks of code designed to be integrated into projects for a specific purpose.  The idea is to keep people from having to reinvent the wheel every time they want to write a program.  When we encounter situations where a libary might be useful, we use the keyword *import* to tell the program that we want to use this pre-existing code.  As an example, in the next section you will use a library called Pandas which helps visualize data and make it easier to digest, which is very useful for us.  Because of this, we will import that code into this program simply by running the cell with the import that goes with that code.  Here is what you will see, only in commented code."
   ]
  },
  {
   "cell_type": "code",
   "execution_count": null,
   "id": "94e7534f",
   "metadata": {},
   "outputs": [],
   "source": [
    "#import pandas as pd\n",
    "\n",
    "#by using the keyword *as* and giving pandas an alternative name (pd) in this program, it allows us to use the\n",
    "#functions within pandas while only having to type our pd instead of pandas every time."
   ]
  },
  {
   "cell_type": "markdown",
   "id": "00efeb36",
   "metadata": {},
   "source": [
    "Most programming languages have libraries that allow you to import code this way, and it will save you a lot of time and allow you to quickly use many new functions that are highly polished."
   ]
  },
  {
   "cell_type": "markdown",
   "id": "8a98171c",
   "metadata": {},
   "source": [
    "# DataFrames and Pandas"
   ]
  },
  {
   "cell_type": "markdown",
   "id": "10d609f4",
   "metadata": {},
   "source": [
    "Now it is time to use what we have learned to start doing some data science.\n",
    "\n",
    "Pandas is the name of a library in which there are functions and tools for doing operations common in data analysis and data science. One particularly great feature is the DataFrame structure which allows us to work with an object similar to an Excel spreadsheet but with the flexibility and power of Python behind it.\n",
    "\n",
    "First we will need to import the Pandas library and create a DataFrame. DataFrames are can also be created when you import files (like CSV's) or tables from a database (like SQL)."
   ]
  },
  {
   "cell_type": "code",
   "execution_count": null,
   "id": "d756aa0d",
   "metadata": {},
   "outputs": [],
   "source": [
    "import pandas as pd"
   ]
  },
  {
   "cell_type": "code",
   "execution_count": null,
   "id": "17fc8915",
   "metadata": {},
   "outputs": [],
   "source": [
    "d = {\"Books\":[\"The Silmarillion\",\"The Hobbit\",\"The Fellowship of the Ring\",\"The Two Towers\",\"The Return of the King\"],\n",
    "     \"Words\":[130115,95506,187726,156147,137037]\n",
    "    }\n",
    "df = pd.DataFrame(d)\n",
    "df"
   ]
  },
  {
   "cell_type": "markdown",
   "id": "b40b2383",
   "metadata": {},
   "source": [
    "Now we can operate on entire rows or columns in our DataFrame."
   ]
  },
  {
   "cell_type": "code",
   "execution_count": null,
   "id": "4486b9f4",
   "metadata": {},
   "outputs": [],
   "source": [
    "df[\"Books\"] #Selecting the column \"Books\""
   ]
  },
  {
   "cell_type": "code",
   "execution_count": null,
   "id": "1f790201",
   "metadata": {},
   "outputs": [],
   "source": [
    "df[:2] #Selecting the first 2 rows"
   ]
  },
  {
   "cell_type": "code",
   "execution_count": null,
   "id": "1fdb4062",
   "metadata": {},
   "outputs": [],
   "source": [
    "df[2:4] #Selecting rows 2 up to 4"
   ]
  },
  {
   "cell_type": "code",
   "execution_count": null,
   "id": "1e7fd916",
   "metadata": {},
   "outputs": [],
   "source": [
    "df[\"Words\"][2:4] #Selecting the second and third row from the \"Words\" column."
   ]
  },
  {
   "cell_type": "code",
   "execution_count": null,
   "id": "08fe6fb3",
   "metadata": {},
   "outputs": [],
   "source": [
    "df[2:4][\"Words\"] #Same result but from the opposite order"
   ]
  },
  {
   "cell_type": "markdown",
   "id": "057aaf1b",
   "metadata": {},
   "source": [
    "You can also operate on entire columns in your DataFrame. Just be careful because this can give you unexpected results. Rows are generally more consistent for elements within a DataFrame."
   ]
  },
  {
   "cell_type": "code",
   "execution_count": null,
   "id": "2bb0a877",
   "metadata": {},
   "outputs": [],
   "source": [
    "total = sum(df[\"Words\"])\n",
    "total"
   ]
  },
  {
   "cell_type": "markdown",
   "id": "b4756ccc",
   "metadata": {},
   "source": [
    "## More Complex Data"
   ]
  },
  {
   "cell_type": "markdown",
   "id": "54c872ac",
   "metadata": {},
   "source": [
    "To look at slightly more complex data operations, we need more complex data.\n",
    "\n",
    "Below we have all the chapters from the Hobbit and Lord of the Rings books along with their word counts. Notice that each chapter is a list of information and then each of those list is an element in a larger list."
   ]
  },
  {
   "cell_type": "code",
   "execution_count": null,
   "id": "31962371",
   "metadata": {},
   "outputs": [],
   "source": [
    "chapters = [[0,1,'An Unexpected Party',8638,0],\n",
    "            [0,2,'Roast Mutton',5257,0],\n",
    "            [0,3,'A Short Rest',2876,0],\n",
    "            [0,4,'Over Hill and Under Hill',4034,0],\n",
    "            [0,5,'Riddles in the Dark',6967,0],\n",
    "            [0,6,'Out of the Frying Pan into the Fire',6703,0],\n",
    "            [0,7,'Queer Lodgings',9027,0],\n",
    "            [0,8,'Flies and Spiders',10223,0],\n",
    "            [0,9,'Barrels Out of Bond',5833,0],\n",
    "            [0,10,'A Warm Welcome',3930,0],\n",
    "            [0,11,'On the Doorstep',3001,0],\n",
    "            [0,12,'Inside Information',7132,0],\n",
    "            [0,13,'Not At Home',3909,0],\n",
    "            [0,14,'Fire and Water',3236,0],\n",
    "            [0,15,'The Gathering of the Clouds',3362,0],\n",
    "            [0,16,'A Thief in the Night',2153,0],\n",
    "            [0,17,'The Clouds Burst',3949,0],\n",
    "            [0,18,'The Return Journey',2815,0],\n",
    "            [0,19,'The Last Stage',2461,0],\n",
    "            [1,-4,'Concerning Hobbits',3406,1],\n",
    "            [1,-3,'Concerning Pipeweed',600,1],\n",
    "            [1,-2,'Of the Ordering of the Shire',2431,1],\n",
    "            [1,-1,'Note on the Shire Records',914,1],\n",
    "            [1,1,'A Long-expected Party',10012,1],\n",
    "            [1,2,'The Shadow of the Past',11311,1],\n",
    "            [1,3,'Three is Company',9763,1],\n",
    "            [1,4,'A Short Cut to Mushrooms',5957,1],\n",
    "            [1,5,'A Conspiracy Unmasked',5196,1],\n",
    "            [1,6,'The Old Forest',6502,1],\n",
    "            [1,7,'In the House of Tom Bombadil',5501,1],\n",
    "            [1,8,'Fog on the Barrow-downs',6694,1],\n",
    "            [1,9,'At the Sign of the Prancing Pony',6251,1],\n",
    "            [1,10,'Strider',5905,1],\n",
    "            [1,11,'A Knife in the Dark',9468,1],\n",
    "            [1,12,'Flight to the Ford',8805,1],\n",
    "            [1,1,'Many Meetings',9085,2],\n",
    "            [1,2,'The Council of Elrond',16360,2],\n",
    "            [1,3,'The Ring goes South',10656,2],\n",
    "            [1,4,'A Journey in the Dark',11501,2],\n",
    "            [1,5,'The Bridge of Khazad-dum',5428,2],\n",
    "            [1,6,'Lothlorien',9387,2],\n",
    "            [1,7,'The Mirror of Gladriel',6896,2],\n",
    "            [1,8,'Farewell to Lorien',6174,2],\n",
    "            [1,9,'The Great River',7218,2],\n",
    "            [1,10,'The Breaking of the Fellowship',6305,2],\n",
    "            [2,1,'The Departure of Boromir',3397,3],\n",
    "            [2,2,'The Riders of Rohan',11133,3],\n",
    "            [2,3,'The Uruk-hai',7854,3],\n",
    "            [2,4,'Treebeard',12876,3],\n",
    "            [2,5,'The White Rider',8856,3],\n",
    "            [2,6,'The King of the Golden Hall',9303,3],\n",
    "            [2,7,\"Helm's Deep\",7575,3],\n",
    "            [2,8,'The Road to Isengard',7899,3],\n",
    "            [2,9,'Flotsam and Jetsam',7789,3],\n",
    "            [2,10,'The Voice of Saruman',5663,3],\n",
    "            [2,11,'The Palantir',6325,3],\n",
    "            [2,1,'The Taming of Smeagol',8375,4],\n",
    "            [2,2,'The Passage of the Marshes',7357,4],\n",
    "            [2,3,'The Black Gate is Closed',5881,4],\n",
    "            [2,4,'Of Herbs and Stewed Rabbit',6975,4],\n",
    "            [2,5,'The Window on the West',10120,4],\n",
    "            [2,6,'The Forbidden Pool',5179,4],\n",
    "            [2,7,'Journey to the Crossroads',4266,4],\n",
    "            [2,8,'The Stairs of Cirith Ungol',6793,4],\n",
    "            [2,9,\"Shelob's Lair\",5209,4],\n",
    "            [2,10,'The Choices of Master Samwise',7322,4],\n",
    "            [3,1,'Minas Tirith',13100,5],\n",
    "            [3,2,'The Passing of the Grey Company',8586,5],\n",
    "            [3,3,'The Muster of Rohan',6951,5],\n",
    "            [3,4,'The Siege of Gondor',11793,5],\n",
    "            [3,5,'The Ride of the Rohirrim',4358,5],\n",
    "            [3,6,'The Battle of the Pelennor Fields',5225,5],\n",
    "            [3,7,'The Pyre of Denethor',3736,5],\n",
    "            [3,8,'The Houses of Healing',6731,5],\n",
    "            [3,9,'The Last Debate',5416,5],\n",
    "            [3,10,'The Black Gate Opens',5204,5],\n",
    "            [3,1,'The Tower of Cirith Ungol',9721,6],\n",
    "            [3,2,'The Land of Shadow',8446,6],\n",
    "            [3,3,'Mount Doom',7777,6],\n",
    "            [3,4,'The Field of Cormallen',4721,6],\n",
    "            [3,5,'The Steward and the King',7639,6],\n",
    "            [3,6,'Many Partings',7440,6],\n",
    "            [3,7,'Homeward Bound',4106,6],\n",
    "            [3,8,'The Scouring of the Shire',11296,6],\n",
    "            [3,9,'The Grey Havens',4791,6]\n",
    "           ]"
   ]
  },
  {
   "cell_type": "markdown",
   "id": "c4b852a8",
   "metadata": {},
   "source": [
    "Now we can turn the list of the lists into a dataframe. We have also named our columns. This isn't necessary but it does make things clearer to work with."
   ]
  },
  {
   "cell_type": "code",
   "execution_count": null,
   "id": "43eec7d9",
   "metadata": {},
   "outputs": [],
   "source": [
    "cols = ['CollectionNum','ChapterNum','ChapterName','WordCount','BookNum']\n",
    "data = pd.DataFrame(chapters, columns=cols)"
   ]
  },
  {
   "cell_type": "code",
   "execution_count": null,
   "id": "71969df3",
   "metadata": {},
   "outputs": [],
   "source": [
    "data"
   ]
  },
  {
   "cell_type": "markdown",
   "id": "caa51b1e",
   "metadata": {},
   "source": [
    "Now we might want to apply the names of each of the traditional \"books\" you might think of when you think about the Lord of the Rings. To do this we need to use a function that is very powerful and flexible: [apply](https://pandas.pydata.org/docs/reference/api/pandas.DataFrame.apply.html). This function will allow us to apply an operation or function to each value in a column and save it into a new column. In this example, our \"function\" is using our *CollectionNum* to reference a book name in our list *titles*."
   ]
  },
  {
   "cell_type": "markdown",
   "id": "8a0577bb",
   "metadata": {},
   "source": [
    "The structure of the apply function is: `apply(lambda *variable* : *function*(*variable*) )`\n",
    "Where the variable represents the value in each row and the opertaion of function will return a value that can be stored in our new column."
   ]
  },
  {
   "cell_type": "code",
   "execution_count": null,
   "id": "473cc31e",
   "metadata": {},
   "outputs": [],
   "source": [
    "titles = ['The Hobbit','The Fellowship of the Ring', 'The Two Towers', 'The Return of the King']\n",
    "data['CollectionName']=data['CollectionNum'].apply(lambda x: titles[x])"
   ]
  },
  {
   "cell_type": "markdown",
   "id": "26b2ad0c",
   "metadata": {},
   "source": [
    "## [GroupBy](https://pandas.pydata.org/pandas-docs/stable/reference/api/pandas.DataFrame.groupby.html)"
   ]
  },
  {
   "cell_type": "markdown",
   "id": "c76c3830",
   "metadata": {},
   "source": [
    "Now that we have data for each of the chapters, we can group them using groupby. This lets us do aggregate operations like \"add all the wordcounts for each book\" or \"count how many chapters there are in each book\".\n",
    "\n",
    "Groupby is a powerful tool but if you don't understand your data, it can quickly introduce errors."
   ]
  },
  {
   "cell_type": "code",
   "execution_count": null,
   "id": "ada69616",
   "metadata": {},
   "outputs": [],
   "source": [
    "data.groupby(by='CollectionName').count()"
   ]
  },
  {
   "cell_type": "code",
   "execution_count": null,
   "id": "28658869",
   "metadata": {},
   "outputs": [],
   "source": [
    "data.groupby(by='CollectionName').sum()"
   ]
  },
  {
   "cell_type": "markdown",
   "id": "524bb3cc",
   "metadata": {},
   "source": [
    "## Selecting (Advanced Slicing)"
   ]
  },
  {
   "cell_type": "markdown",
   "id": "61ce47b8",
   "metadata": {},
   "source": [
    "You can select slices of your dataframe using conditional logic as well. Conditional logic means determining if a condition is `True` or `False` and often relies on operations like: equals `==`, not `!`, and `&`, or `|`."
   ]
  },
  {
   "cell_type": "code",
   "execution_count": null,
   "id": "8ff1a8a6",
   "metadata": {},
   "outputs": [],
   "source": [
    "df"
   ]
  },
  {
   "cell_type": "code",
   "execution_count": null,
   "id": "93b75aee",
   "metadata": {},
   "outputs": [],
   "source": [
    "# Select values based on exact matches\n",
    "df[df['Books']=='The Hobbit']"
   ]
  },
  {
   "cell_type": "code",
   "execution_count": null,
   "id": "9b70e09c",
   "metadata": {},
   "outputs": [],
   "source": [
    "# Select values by negating a match\n",
    "df[df['Books']!='The Hobbit']"
   ]
  },
  {
   "cell_type": "code",
   "execution_count": null,
   "id": "f2563bc2",
   "metadata": {},
   "outputs": [],
   "source": [
    "# Select values containing substrings\n",
    "df[df['Books'].str.contains('ing')]"
   ]
  },
  {
   "cell_type": "code",
   "execution_count": null,
   "id": "875f9f2b",
   "metadata": {},
   "outputs": [],
   "source": [
    "# Select values on multiple conditions using different columns\n",
    "df[(df['Books'].str.contains('ing')) & (df['Words']>150000)]"
   ]
  },
  {
   "cell_type": "markdown",
   "id": "f3f3a984",
   "metadata": {},
   "source": [
    "## Joining"
   ]
  },
  {
   "cell_type": "markdown",
   "id": "1696f5ca",
   "metadata": {},
   "source": [
    "You can also merge 2 dataframes if you want. Merging allows you to combine datasets in new ways and is a great tool to have when working with complex datasets."
   ]
  },
  {
   "cell_type": "markdown",
   "id": "c41c920d",
   "metadata": {},
   "source": [
    "First we need a second dataframe to work with. Here, we have made a dataframe with the publication year of each of of our Tolkien books."
   ]
  },
  {
   "cell_type": "code",
   "execution_count": null,
   "id": "7e6435aa",
   "metadata": {},
   "outputs": [],
   "source": [
    "df"
   ]
  },
  {
   "cell_type": "code",
   "execution_count": null,
   "id": "ad144ab9",
   "metadata": {},
   "outputs": [],
   "source": [
    "dates = pd.DataFrame({'Name':df['Books'],'Year':pd.Series([1977,1934,1954,1954,1954])})\n",
    "dates\n",
    "# NOTE: We named our column 'Name' for instructional purposes, but a better name would be 'Books' so that it matches my other dataframe.\n",
    "#       Typically you want to use a unique identifier in your data and then merge based on that column."
   ]
  },
  {
   "cell_type": "markdown",
   "id": "c80146a9",
   "metadata": {},
   "source": [
    "Now we can merge our new dates dataframe with our existing dataframe.\n",
    "\n",
    "We have done an inner join (only rows that match in both dataframes will appear in our join) where the column in the left dataframe is called \"Books\" and the column in the right dataframe is called \"Name\".\n",
    "\n",
    "More documentation on merging dataframes can be found [here](https://pandas.pydata.org/pandas-docs/stable/reference/api/pandas.DataFrame.merge.html)."
   ]
  },
  {
   "cell_type": "code",
   "execution_count": null,
   "id": "f298a9bd",
   "metadata": {},
   "outputs": [],
   "source": [
    "pd.merge(df,dates, left_on=\"Books\", right_on=\"Name\", how = 'inner')"
   ]
  },
  {
   "cell_type": "markdown",
   "id": "f2a8496e",
   "metadata": {},
   "source": [
    "Notice that our merge duplicated our matching column because they had different names. This would not happen if we had the same name for columns in both dataframes. However, will not always be the case, so you can clean up your dataframe by dropping one of the redundant columns."
   ]
  },
  {
   "cell_type": "code",
   "execution_count": null,
   "id": "4318b3d9",
   "metadata": {},
   "outputs": [],
   "source": [
    "merged = pd.merge(df,dates, left_on=\"Books\", right_on=\"Name\", how = 'inner').drop(columns=['Name'])\n",
    "merged"
   ]
  },
  {
   "cell_type": "markdown",
   "id": "1c6ec933",
   "metadata": {},
   "source": [
    "# Plotting"
   ]
  },
  {
   "cell_type": "markdown",
   "id": "ecccca87",
   "metadata": {},
   "source": [
    "Visualizing data is incredibly important when trying to convey findings. There are several libraries available for doing data visualization. Pandas has some built in plotting functionality, but we have provided access to MatPlotLib as well."
   ]
  },
  {
   "cell_type": "code",
   "execution_count": null,
   "id": "c26a782a",
   "metadata": {},
   "outputs": [],
   "source": [
    "# This is only needed in this case because we wanted to show the names of the books. You could make a similar plot in Pandas.\n",
    "import matplotlib as plt\n",
    "%matplotlib inline\n",
    "# This allows the plot to be shown inline in the notebook"
   ]
  },
  {
   "cell_type": "code",
   "execution_count": null,
   "id": "01638723",
   "metadata": {},
   "outputs": [],
   "source": [
    "plot = df.plot(kind='bar') # we are setting the type of plot to a bar graph\n",
    "plot.set_xticklabels(df['Books']); #This lets us rename the x axis labels"
   ]
  },
  {
   "cell_type": "markdown",
   "id": "ec9c47e8",
   "metadata": {},
   "source": [
    "## More Complex Plotting"
   ]
  },
  {
   "cell_type": "markdown",
   "id": "0140fbed",
   "metadata": {},
   "source": [
    "Lastly, we can combine several of the things we have learned into a single plot. Here we can group each book together and then look at the word counts by chapter throughout the story."
   ]
  },
  {
   "cell_type": "markdown",
   "id": "a51af3b9",
   "metadata": {},
   "source": [
    "First, we want to come up with a way to step through the books in a linear way. We have provided a few ways to do this in increasing complexity."
   ]
  },
  {
   "cell_type": "code",
   "execution_count": null,
   "id": "ff6b6c12",
   "metadata": {},
   "outputs": [],
   "source": [
    "# Simple - add the collection number to the chapter number divided by 10\n",
    "data['BookChapter'] = data['CollectionNum']+0.1*data['ChapterNum']\n",
    "\n",
    "# Much better - add the book number to the chapter number divided by 10\n",
    "#data['BookChapter'] = data['BookNum']+0.1*data['ChapterNum']\n",
    "\n",
    "# Best but complicated - add the book number to the chapter number scaled by 1/n where n is the max number of chapters in that book.\n",
    "#data['BookChapter']=data.apply(lambda x: x['BookNum']+(1/data.groupby(by='BookNum').max()['ChapterNum'][x['BookNum']])*x['ChapterNum'], axis=1)"
   ]
  },
  {
   "cell_type": "code",
   "execution_count": null,
   "id": "dff4c65a",
   "metadata": {},
   "outputs": [],
   "source": [
    "groups = data.groupby(\"CollectionName\")\n",
    "\n",
    "for name, group in groups:\n",
    "\n",
    "    plt.pyplot.plot(group[\"BookChapter\"], group[\"WordCount\"],label=name)\n",
    "\n",
    "plt.pyplot.legend()\n"
   ]
  },
  {
   "cell_type": "markdown",
   "id": "0ee003f6",
   "metadata": {},
   "source": [
    " Notice that the prologue materials in *The Fellowship of the Ring* cause it to overlap with the *Hobbit*. If we wanted to resolve this, we would need to revisit our conventions in our data."
   ]
  },
  {
   "cell_type": "markdown",
   "id": "8d6aaa09",
   "metadata": {},
   "source": [
    "# Wrapping up"
   ]
  },
  {
   "cell_type": "markdown",
   "id": "b0efb40a",
   "metadata": {},
   "source": [
    "We covered:\n",
    "- Basic Math\n",
    "- Variables and Objects\n",
    "- Dictionaries\n",
    "- Loops and Functions\n",
    "- DataFrames in Pandas\n",
    "- Plotting"
   ]
  }
 ],
 "metadata": {
  "jupytext": {
   "formats": "ipynb"
  },
  "kernelspec": {
   "display_name": "Python 3",
   "language": "python",
   "name": "python3"
  }
 },
 "nbformat": 4,
 "nbformat_minor": 5
}
