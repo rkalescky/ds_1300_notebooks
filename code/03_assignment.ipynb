{
 "cells": [
  {
   "cell_type": "markdown",
   "id": "d9060044",
   "metadata": {},
   "source": [
    "# Linear Regression and Temperature"
   ]
  },
  {
   "cell_type": "markdown",
   "id": "3d8044cb",
   "metadata": {},
   "source": [
    "In this notebook, we'll look at using linear regression to study changes in temperature."
   ]
  },
  {
   "cell_type": "markdown",
   "id": "c22fa7a5",
   "metadata": {},
   "source": [
    "## Setup"
   ]
  },
  {
   "cell_type": "code",
   "execution_count": null,
   "id": "11b89925",
   "metadata": {},
   "outputs": [],
   "source": [
    "import pandas as pd\n",
    "import numpy as np\n",
    "import matplotlib\n",
    "import matplotlib.pyplot as plt\n",
    "import warnings\n",
    "warnings.simplefilter(action='ignore', category=FutureWarning)\n",
    "\n",
    "%config InlineBackend.figure_format ='retina'"
   ]
  },
  {
   "cell_type": "markdown",
   "id": "207221bc",
   "metadata": {},
   "source": [
    "## Getting our data"
   ]
  },
  {
   "cell_type": "markdown",
   "id": "d38eb700",
   "metadata": {},
   "source": [
    "We'll be getting data from [North America Land Data Assimilation System (NLDAS)](https://wonder.cdc.gov/NASA-NLDAS.html), which provides the daily average temperature from 1979-2011 for the United States."
   ]
  },
  {
   "cell_type": "markdown",
   "id": "c8d6486b",
   "metadata": {},
   "source": [
    "For the next step, you will need to choose some settings in the data request form. These are:\n",
    "\n",
    "- GroupBy: Month Day, Year\n",
    "- Your State\n",
    "- Export Results (check box)\n",
    "- Show Zero Values (check box)"
   ]
  },
  {
   "cell_type": "markdown",
   "id": "055d0a1b",
   "metadata": {},
   "source": [
    ">1) Download the data for your home state (or state of your choosing) and upload it to M2 in your work directory."
   ]
  },
  {
   "cell_type": "markdown",
   "id": "e058ed27",
   "metadata": {},
   "source": [
    "# Loading our data"
   ]
  },
  {
   "cell_type": "code",
   "execution_count": null,
   "id": "0e6a6423",
   "metadata": {},
   "outputs": [],
   "source": [
    "df = pd.read_csv('North America Land Data Assimilation System (NLDAS) Daily Air Temperatures and Heat Index (1979-2011).txt',delimiter='\\t',skipfooter=14,engine='python')"
   ]
  },
  {
   "cell_type": "code",
   "execution_count": null,
   "id": "84d1d5b2",
   "metadata": {},
   "outputs": [],
   "source": [
    "df"
   ]
  },
  {
   "cell_type": "markdown",
   "id": "a28f478c",
   "metadata": {},
   "source": [
    "### Clean the data"
   ]
  },
  {
   "cell_type": "markdown",
   "id": "6a3a2323",
   "metadata": {},
   "source": [
    ">2) Drop any rows that have the value \"Total\" in the Notes column, then drop the Notes column"
   ]
  },
  {
   "cell_type": "code",
   "execution_count": null,
   "id": "27be1654",
   "metadata": {},
   "outputs": [],
   "source": []
  },
  {
   "cell_type": "markdown",
   "id": "ae0389f0",
   "metadata": {},
   "source": [
    ">3) Make a column called Date that is in the pandas datetime format"
   ]
  },
  {
   "cell_type": "code",
   "execution_count": null,
   "id": "301dca23",
   "metadata": {},
   "outputs": [],
   "source": []
  },
  {
   "cell_type": "markdown",
   "id": "dbc5d1dc",
   "metadata": {},
   "source": [
    ">4) Make columns for 'Year', 'Month', and 'Day' by splitting the column 'Month Day, Year'"
   ]
  },
  {
   "cell_type": "code",
   "execution_count": null,
   "id": "945fb2cc",
   "metadata": {},
   "outputs": [],
   "source": []
  },
  {
   "cell_type": "code",
   "execution_count": null,
   "id": "c5e39692",
   "metadata": {},
   "outputs": [],
   "source": [
    "df['DateInt'] = df['Date'].astype(int)/10e10 # This will be used later"
   ]
  },
  {
   "cell_type": "markdown",
   "id": "ee4d02a5",
   "metadata": {},
   "source": [
    "## Generating a scatter plot"
   ]
  },
  {
   "cell_type": "markdown",
   "id": "4374eb56",
   "metadata": {},
   "source": [
    "> 4) Use df.plot.scatter to plot 'Date' vs 'Avg Daily Max Air Temperature (F)'. You might want to add figsize=(50,5) as an argument to make it more clear what is happening."
   ]
  },
  {
   "cell_type": "code",
   "execution_count": null,
   "id": "e8e1a274",
   "metadata": {},
   "outputs": [],
   "source": []
  },
  {
   "cell_type": "markdown",
   "id": "2d5e9bc6",
   "metadata": {},
   "source": [
    ">5) Describe your plot."
   ]
  },
  {
   "cell_type": "markdown",
   "id": "9292255b",
   "metadata": {},
   "source": [
    "### Adding colors for our graph"
   ]
  },
  {
   "cell_type": "code",
   "execution_count": null,
   "id": "d49fc165",
   "metadata": {},
   "outputs": [],
   "source": [
    "# No need to edit this unless you want to try different colors or a pattern other than colors by month\n",
    "\n",
    "cmap = matplotlib.cm.get_cmap(\"nipy_spectral\", len(df['Month'].unique())) # Builds a discrete color mapping using a built in matplotlib color map\n",
    "\n",
    "c = []\n",
    "for i in range(cmap.N): # Converts our discrete map into Hex Values\n",
    "    rgba = cmap(i)\n",
    "    c.append(matplotlib.colors.rgb2hex(rgba))\n",
    "\n",
    "df['color']=[c[int(i-1)] for i in df['Month'].astype(int)] # Adds a column to our dataframe with the color we want for each row"
   ]
  },
  {
   "cell_type": "markdown",
   "id": "5297ef49",
   "metadata": {},
   "source": [
    ">6) Make the same plot as 4) but add color by adding the argument c=df\\['color'\\] to our plotting command."
   ]
  },
  {
   "cell_type": "code",
   "execution_count": null,
   "id": "d1170ec8",
   "metadata": {},
   "outputs": [],
   "source": []
  },
  {
   "cell_type": "markdown",
   "id": "4db015a8",
   "metadata": {},
   "source": [
    "## Pick a subset of the data"
   ]
  },
  {
   "cell_type": "markdown",
   "id": "2c49223f",
   "metadata": {},
   "source": [
    ">7) Select a 6 month period from the data. # Hint use logic and pd.datetime(YYYY, MM, DD)"
   ]
  },
  {
   "cell_type": "code",
   "execution_count": null,
   "id": "74a69ab6",
   "metadata": {},
   "outputs": [],
   "source": []
  },
  {
   "cell_type": "markdown",
   "id": "70f79d6e",
   "metadata": {},
   "source": [
    ">8) Plot the subset using the the same code you used in 6). You can change the figsize if needed."
   ]
  },
  {
   "cell_type": "code",
   "execution_count": null,
   "id": "447bc3c5",
   "metadata": {},
   "outputs": [],
   "source": []
  },
  {
   "cell_type": "markdown",
   "id": "1d498047",
   "metadata": {},
   "source": [
    "## Linear Regression"
   ]
  },
  {
   "cell_type": "markdown",
   "id": "6910bb80",
   "metadata": {},
   "source": [
    "We are going to use a very [simple linear regression model](https://en.wikipedia.org/wiki/Simple_linear_regression). You may implement a more complex model if you wish.\n",
    "\n",
    "The method described here is called the least squares method and is defined as:\n",
    "\n",
    "$m = \\frac{\\sum_{i=1}^{n}(x_i-\\bar{x})(y_i-\\bar{y}))}{\\sum_{i=1}^{n}(x_i-\\bar{x})^2}$\n",
    "\n",
    "$b = \\bar{y} - m\\bar{x}$\n",
    "\n",
    "Where $\\bar{x}$ and $\\bar{y}$ are the average value of $x$ and $y$ respectively."
   ]
  },
  {
   "cell_type": "markdown",
   "id": "2d6dcb35",
   "metadata": {},
   "source": [
    "First we need to define our X and Y values."
   ]
  },
  {
   "cell_type": "code",
   "execution_count": null,
   "id": "65e4a8e2",
   "metadata": {},
   "outputs": [],
   "source": [
    "X=subset['DateInt'].values\n",
    "Y=subset['Avg Daily Max Air Temperature (F)'].values"
   ]
  },
  {
   "cell_type": "code",
   "execution_count": null,
   "id": "9b7ebf5e",
   "metadata": {},
   "outputs": [],
   "source": [
    "def lin_reg(x,y):\n",
    "    # Calculate the average x and y\n",
    "    x_avg = np.mean(x)\n",
    "    y_avg = np.mean(y)\n",
    "\n",
    "    num = 0\n",
    "    den = 0\n",
    "    for i in range(len(x)): # This represents our sums\n",
    "        num = num + (x[i] - x_avg)*(y[i] - y_avg) # Our numerator\n",
    "        den = den + (x[i] - x_avg)**2 # Our denominator\n",
    "    # Calculate slope\n",
    "    m = num / den\n",
    "    # Calculate intercept\n",
    "    b = y_avg - m*x_avg\n",
    "\n",
    "    print (m, b)\n",
    "    \n",
    "    # Calculate our predicted y values\n",
    "    y_pred = m*x + b\n",
    "    \n",
    "    return y_pred"
   ]
  },
  {
   "cell_type": "code",
   "execution_count": null,
   "id": "59ff88b9",
   "metadata": {},
   "outputs": [],
   "source": [
    "Y_pred = lin_reg(X,Y)"
   ]
  },
  {
   "cell_type": "code",
   "execution_count": null,
   "id": "5ffdb99a",
   "metadata": {},
   "outputs": [],
   "source": [
    "subset.plot.scatter(x='Date', y='Avg Daily Max Air Temperature (F)',c=subset['color'])\n",
    "plt.plot([min(subset['Date'].values), max(subset['Date'].values)], [min(Y_pred), max(Y_pred)], color='red') # best fit line\n",
    "plt.show()"
   ]
  },
  {
   "cell_type": "markdown",
   "id": "f5e71114",
   "metadata": {},
   "source": [
    ">9) What are the slope and intercept of your best fit line?"
   ]
  },
  {
   "cell_type": "code",
   "execution_count": null,
   "id": "e0b03f91",
   "metadata": {},
   "outputs": [],
   "source": []
  },
  {
   "cell_type": "markdown",
   "id": "62e350ff",
   "metadata": {},
   "source": [
    ">10) What are the minimum and maximum Y values of your best fit line? Is your slope positive or negative?"
   ]
  },
  {
   "cell_type": "code",
   "execution_count": null,
   "id": "ccaa11ea",
   "metadata": {},
   "outputs": [],
   "source": []
  },
  {
   "cell_type": "markdown",
   "id": "08931e32",
   "metadata": {},
   "source": [
    "## Putting it all together"
   ]
  },
  {
   "cell_type": "markdown",
   "id": "894c266c",
   "metadata": {},
   "source": [
    ">11) Generate a best fit line for the full data set and plot the line over top of the data."
   ]
  },
  {
   "cell_type": "code",
   "execution_count": null,
   "id": "3286cd45",
   "metadata": {},
   "outputs": [],
   "source": []
  },
  {
   "cell_type": "code",
   "execution_count": null,
   "id": "1ea05852",
   "metadata": {},
   "outputs": [],
   "source": []
  },
  {
   "cell_type": "markdown",
   "id": "94eec84c",
   "metadata": {},
   "source": [
    ">12) Is the slope positive or negative? What do you think that means?"
   ]
  },
  {
   "cell_type": "code",
   "execution_count": null,
   "id": "540a9006",
   "metadata": {},
   "outputs": [],
   "source": []
  }
 ],
 "metadata": {
  "jupytext": {
   "formats": "ipynb"
  },
  "kernelspec": {
   "display_name": "Python 3",
   "language": "python",
   "name": "python3"
  }
 },
 "nbformat": 4,
 "nbformat_minor": 5
}
