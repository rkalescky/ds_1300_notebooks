{
 "cells": [
  {
   "cell_type": "markdown",
   "id": "a8de0a17",
   "metadata": {},
   "source": [
    "# Data Visualization"
   ]
  },
  {
   "cell_type": "markdown",
   "id": "fc0c81d1",
   "metadata": {},
   "source": [
    "Being able to visualize your data is vital to being a data scientist. This generally involves making graphs or plots. More advanced techniques (beyond the scope of this notebook) include interactive graphics and dashboards."
   ]
  },
  {
   "cell_type": "markdown",
   "id": "44baaa40",
   "metadata": {},
   "source": [
    "We're going to focus on two different types of plotting ([Pandas](https://pandas.pydata.org/pandas-docs/stable/user_guide/visualization.html) and [Matplotlib](https://matplotlib.org/stable/tutorials/introductory/usage.html#sphx-glr-tutorials-introductory-usage-py)) but under the hood they're both matplotlib. There are other plotting libraries like [seaborn](https://seaborn.pydata.org/tutorial.html).\n",
    "\n",
    "Here is a really quick but good [article](https://towardsdatascience.com/all-your-matplotlib-questions-answered-420dd95cb4ff) to read for getting started too."
   ]
  },
  {
   "cell_type": "code",
   "execution_count": null,
   "id": "296c4b97",
   "metadata": {},
   "outputs": [],
   "source": [
    "import pandas as pd\n",
    "import matplotlib as plt\n",
    "\n",
    "%matplotlib inline\n",
    "%config InlineBackend.figure_format ='retina'"
   ]
  },
  {
   "cell_type": "code",
   "execution_count": null,
   "id": "a3760d77",
   "metadata": {},
   "outputs": [],
   "source": [
    "data = pd.read_csv('../data/state_facts.tsv', delimiter='\\t')"
   ]
  },
  {
   "cell_type": "code",
   "execution_count": null,
   "id": "93b7e486",
   "metadata": {},
   "outputs": [],
   "source": [
    "data.head()"
   ]
  },
  {
   "cell_type": "markdown",
   "id": "cc8bb154",
   "metadata": {},
   "source": [
    "### Anatomy of a plot"
   ]
  },
  {
   "cell_type": "markdown",
   "id": "f8416072",
   "metadata": {},
   "source": [
    "Let's ignore the following code, butjust look at the resulting image."
   ]
  },
  {
   "cell_type": "code",
   "execution_count": null,
   "id": "ae716ec2",
   "metadata": {},
   "outputs": [],
   "source": [
    "# This figure shows the name of several matplotlib elements composing a figure\n",
    "\n",
    "import numpy as np\n",
    "import matplotlib.pyplot as plt\n",
    "from matplotlib.ticker import AutoMinorLocator, MultipleLocator, FuncFormatter\n",
    "\n",
    "\n",
    "np.random.seed(19680801)\n",
    "\n",
    "X = np.linspace(0.5, 3.5, 100)\n",
    "Y1 = 3+np.cos(X)\n",
    "Y2 = 1+np.cos(1+X/0.75)/2\n",
    "Y3 = np.random.uniform(Y1, Y2, len(X))\n",
    "\n",
    "fig = plt.figure(figsize=(8, 8))\n",
    "ax = fig.add_subplot(1, 1, 1, aspect=1)\n",
    "\n",
    "\n",
    "def minor_tick(x, pos):\n",
    "    if not x % 1.0:\n",
    "        return \"\"\n",
    "    return \"%.2f\" % x\n",
    "\n",
    "ax.xaxis.set_major_locator(MultipleLocator(1.000))\n",
    "ax.xaxis.set_minor_locator(AutoMinorLocator(4))\n",
    "ax.yaxis.set_major_locator(MultipleLocator(1.000))\n",
    "ax.yaxis.set_minor_locator(AutoMinorLocator(4))\n",
    "ax.xaxis.set_minor_formatter(FuncFormatter(minor_tick))\n",
    "\n",
    "ax.set_xlim(0, 4)\n",
    "ax.set_ylim(0, 4)\n",
    "\n",
    "ax.tick_params(which='major', width=1.0)\n",
    "ax.tick_params(which='major', length=10)\n",
    "ax.tick_params(which='minor', width=1.0, labelsize=10)\n",
    "ax.tick_params(which='minor', length=5, labelsize=10, labelcolor='0.25')\n",
    "\n",
    "ax.grid(linestyle=\"--\", linewidth=0.5, color='.25', zorder=-10)\n",
    "\n",
    "ax.plot(X, Y1, c=(0.25, 0.25, 1.00), lw=2, label=\"Blue signal\", zorder=10)\n",
    "ax.plot(X, Y2, c=(1.00, 0.25, 0.25), lw=2, label=\"Red signal\")\n",
    "ax.plot(X, Y3, linewidth=0,\n",
    "        marker='o', markerfacecolor='w', markeredgecolor='k')\n",
    "\n",
    "ax.set_title(\"Anatomy of a figure\", fontsize=20, verticalalignment='bottom')\n",
    "ax.set_xlabel(\"X axis label\")\n",
    "ax.set_ylabel(\"Y axis label\")\n",
    "\n",
    "ax.legend()\n",
    "\n",
    "\n",
    "def circle(x, y, radius=0.15):\n",
    "    from matplotlib.patches import Circle\n",
    "    from matplotlib.patheffects import withStroke\n",
    "    circle = Circle((x, y), radius, clip_on=False, zorder=10, linewidth=1,\n",
    "                    edgecolor='black', facecolor=(0, 0, 0, .0125),\n",
    "                    path_effects=[withStroke(linewidth=5, foreground='w')])\n",
    "    ax.add_artist(circle)\n",
    "\n",
    "\n",
    "def text(x, y, text):\n",
    "    ax.text(x, y, text, backgroundcolor=\"white\",\n",
    "            ha='center', va='top', weight='bold', color='blue')\n",
    "\n",
    "\n",
    "# Minor tick\n",
    "circle(0.50, -0.10)\n",
    "text(0.50, -0.32, \"Minor tick label\")\n",
    "\n",
    "# Major tick\n",
    "circle(-0.03, 4.00)\n",
    "text(0.03, 3.80, \"Major tick\")\n",
    "\n",
    "# Minor tick\n",
    "circle(0.00, 3.50)\n",
    "text(0.00, 3.30, \"Minor tick\")\n",
    "\n",
    "# Major tick label\n",
    "circle(-0.15, 3.00)\n",
    "text(-0.15, 2.80, \"Major tick label\")\n",
    "\n",
    "# X Label\n",
    "circle(1.80, -0.27)\n",
    "text(1.80, -0.45, \"X axis label\")\n",
    "\n",
    "# Y Label\n",
    "circle(-0.27, 1.80)\n",
    "text(-0.27, 1.6, \"Y axis label\")\n",
    "\n",
    "# Title\n",
    "circle(1.60, 4.13)\n",
    "text(1.60, 3.93, \"Title\")\n",
    "\n",
    "# Blue plot\n",
    "circle(1.75, 2.80)\n",
    "text(1.75, 2.60, \"Line\\n(line plot)\")\n",
    "\n",
    "# Red plot\n",
    "circle(1.20, 0.60)\n",
    "text(1.20, 0.40, \"Line\\n(line plot)\")\n",
    "\n",
    "# Scatter plot\n",
    "circle(3.20, 1.75)\n",
    "text(3.20, 1.55, \"Markers\\n(scatter plot)\")\n",
    "\n",
    "# Grid\n",
    "circle(3.00, 3.00)\n",
    "text(3.00, 2.80, \"Grid\")\n",
    "\n",
    "# Legend\n",
    "circle(3.70, 3.80)\n",
    "text(3.70, 3.60, \"Legend\")\n",
    "\n",
    "# Axes\n",
    "circle(0.5, 0.5)\n",
    "text(0.5, 0.3, \"Axes\")\n",
    "\n",
    "# Figure\n",
    "circle(-0.3, 0.65)\n",
    "text(-0.3, 0.45, \"Figure\")\n",
    "\n",
    "color = 'blue'\n",
    "ax.annotate('Spines', xy=(4.0, 0.35), xycoords='data',\n",
    "            xytext=(3.3, 0.5), textcoords='data',\n",
    "            weight='bold', color=color,\n",
    "            arrowprops=dict(arrowstyle='->',\n",
    "                            connectionstyle=\"arc3\",\n",
    "                            color=color))\n",
    "\n",
    "ax.annotate('', xy=(3.15, 0.0), xycoords='data',\n",
    "            xytext=(3.45, 0.45), textcoords='data',\n",
    "            weight='bold', color=color,\n",
    "            arrowprops=dict(arrowstyle='->',\n",
    "                            connectionstyle=\"arc3\",\n",
    "                            color=color))\n",
    "\n",
    "ax.text(4.0, -0.4, \"Made with http://matplotlib.org\",\n",
    "        fontsize=10, ha=\"right\", color='.5')\n",
    "\n",
    "plt.show()"
   ]
  },
  {
   "cell_type": "markdown",
   "id": "5a3b1271",
   "metadata": {},
   "source": [
    "There are a lot of elements that go into a plot. Let's start simpler"
   ]
  },
  {
   "cell_type": "markdown",
   "id": "3a55174b",
   "metadata": {},
   "source": [
    "## Plotting with Pandas"
   ]
  },
  {
   "cell_type": "markdown",
   "id": "74899c70",
   "metadata": {},
   "source": [
    "Pandas makes plotting really easy. All we need to do is call the plot function. Done!"
   ]
  },
  {
   "cell_type": "code",
   "execution_count": null,
   "id": "193b3b96",
   "metadata": {},
   "outputs": [],
   "source": [
    "data.plot()"
   ]
  },
  {
   "cell_type": "code",
   "execution_count": null,
   "id": "1e2ff6e9",
   "metadata": {},
   "outputs": [],
   "source": [
    "# data.plot(); # The ; can be used to hide the '<Text>' if you want."
   ]
  },
  {
   "cell_type": "markdown",
   "id": "29e0bdfd",
   "metadata": {},
   "source": [
    "Ok, so this plot isn't helpful. It is hard to read, it's not clear what is really being shown. Why is it a line graph? Let's dive into some options to improve this."
   ]
  },
  {
   "cell_type": "markdown",
   "id": "971afc39",
   "metadata": {},
   "source": [
    "### Making a better plot"
   ]
  },
  {
   "cell_type": "markdown",
   "id": "05897091",
   "metadata": {},
   "source": [
    "The first step to making a better plot is to isolate what we the question we are trying to answer and what type of plot we should make to answer that question. For this example, let's try to determine if there is a correlation between 2020 population and capital city population."
   ]
  },
  {
   "cell_type": "code",
   "execution_count": null,
   "id": "7a50bd54",
   "metadata": {},
   "outputs": [],
   "source": [
    "p1 = data[['USPS_code','Pop_2020','Capital_pop','city_1_pop']]"
   ]
  },
  {
   "cell_type": "markdown",
   "id": "cbbf587a",
   "metadata": {},
   "source": [
    "First let's just slice our data down to what we are interested in - populations by state"
   ]
  },
  {
   "cell_type": "code",
   "execution_count": null,
   "id": "9c069596",
   "metadata": {},
   "outputs": [],
   "source": [
    "p1.plot()"
   ]
  },
  {
   "cell_type": "markdown",
   "id": "5e59f510",
   "metadata": {},
   "source": [
    "This is a little better than our last attempt. At least now we can see all the lines, but this still doesn't help us answer our question.\n",
    "\n",
    "Line graphs like this make a lot more sense if we are looking at trends in our data. Something like change over time. In our data set, change over state doesn't really mean much."
   ]
  },
  {
   "cell_type": "markdown",
   "id": "20be8960",
   "metadata": {},
   "source": [
    "We could try a different type of plot. Maybe a bar graph would work?"
   ]
  },
  {
   "cell_type": "code",
   "execution_count": null,
   "id": "92fb8782",
   "metadata": {},
   "outputs": [],
   "source": [
    "p1.plot(kind='bar')"
   ]
  },
  {
   "cell_type": "markdown",
   "id": "36b93c95",
   "metadata": {},
   "source": [
    "Not much better at answering our question. Bar graphs are good for showing counts of things that are related but get hard to use when you have too many bars or the bars are vastly different in size."
   ]
  },
  {
   "cell_type": "code",
   "execution_count": null,
   "id": "a684b8ad",
   "metadata": {},
   "outputs": [],
   "source": [
    "p1.plot.bar(stacked=True);"
   ]
  },
  {
   "cell_type": "markdown",
   "id": "97eb834e",
   "metadata": {},
   "source": [
    "We could try stacking our bars. This is great if we are trying to show components of a total but not great for answering our question."
   ]
  },
  {
   "cell_type": "markdown",
   "id": "790dd357",
   "metadata": {},
   "source": [
    "A cool use of a stacked bar would be to see which states have the most population in their top 5 cities."
   ]
  },
  {
   "cell_type": "code",
   "execution_count": null,
   "id": "b5429bbc",
   "metadata": {},
   "outputs": [],
   "source": [
    "data[['USPS_code','city_1_pop','city_2_pop','city_3_pop','city_4_pop','city_5_pop']].plot.bar(stacked=True)"
   ]
  },
  {
   "cell_type": "markdown",
   "id": "dd4b0232",
   "metadata": {},
   "source": [
    "We could also make a pie chart. This would be good at telling us what fraction of a total we have but are't great at correlations."
   ]
  },
  {
   "cell_type": "code",
   "execution_count": null,
   "id": "0fc9d70e",
   "metadata": {},
   "outputs": [],
   "source": [
    "p1['Pop_2020'].plot.pie()"
   ]
  },
  {
   "cell_type": "markdown",
   "id": "4cc63c0e",
   "metadata": {},
   "source": [
    "We could try a scatter plot. Why would make sense?"
   ]
  },
  {
   "cell_type": "code",
   "execution_count": null,
   "id": "9abb97fe",
   "metadata": {},
   "outputs": [],
   "source": [
    "p1.plot.scatter(x='Pop_2020', y='Capital_pop')"
   ]
  },
  {
   "cell_type": "markdown",
   "id": "37e8d6c7",
   "metadata": {},
   "source": [
    "### Adding Features"
   ]
  },
  {
   "cell_type": "markdown",
   "id": "d1dde967",
   "metadata": {},
   "source": [
    "Now that we have a plot that we like, let's improve it to better describe our results."
   ]
  },
  {
   "cell_type": "code",
   "execution_count": null,
   "id": "539c5377",
   "metadata": {},
   "outputs": [],
   "source": [
    "p1.plot.scatter(x='Pop_2020', y='Capital_pop')"
   ]
  },
  {
   "cell_type": "markdown",
   "id": "b8ba210d",
   "metadata": {},
   "source": [
    "#### Labels and Legends"
   ]
  },
  {
   "cell_type": "code",
   "execution_count": null,
   "id": "ae95bbe4",
   "metadata": {},
   "outputs": [],
   "source": [
    "p1.plot.scatter(x='Pop_2020', y='Capital_pop', label='Capitals')"
   ]
  },
  {
   "cell_type": "markdown",
   "id": "51ca175b",
   "metadata": {},
   "source": [
    "We can add labels to our plots using the label flag. We can also show/hide the legend using the legend flag. If you do this, you have to be careful that your data is well described elsewhere."
   ]
  },
  {
   "cell_type": "code",
   "execution_count": null,
   "id": "076d8de1",
   "metadata": {},
   "outputs": [],
   "source": [
    "data[['USPS_code','city_1_pop','city_2_pop','city_3_pop','city_4_pop','city_5_pop']].plot.bar(stacked=True, legend=False)"
   ]
  },
  {
   "cell_type": "markdown",
   "id": "fb3af402",
   "metadata": {},
   "source": [
    "#### Additional Data"
   ]
  },
  {
   "cell_type": "markdown",
   "id": "ade946c6",
   "metadata": {},
   "source": [
    "Sometimes we'll want to plot multiple things on a single axis. To do that we have to use the axes option."
   ]
  },
  {
   "cell_type": "code",
   "execution_count": null,
   "id": "0e96c2af",
   "metadata": {},
   "outputs": [],
   "source": [
    "ax = data.plot.scatter(x='Pop_2020', y=\"city_1_pop\", label=\"Largest Cities\")\n",
    "data.plot.scatter(x='Pop_2020', y='Capital_pop', label=\"Capital Cities\", ax=ax)"
   ]
  },
  {
   "cell_type": "markdown",
   "id": "91574926",
   "metadata": {},
   "source": [
    "What is wrong with this plot?"
   ]
  },
  {
   "cell_type": "markdown",
   "id": "1ce20f5a",
   "metadata": {},
   "source": [
    "#### Color and Markers"
   ]
  },
  {
   "cell_type": "markdown",
   "id": "7481e9f7",
   "metadata": {},
   "source": [
    "You can specify colors by name ('red') or by letter ('b'). A full table of named python colors can be found [here](https://matplotlib.org/stable/gallery/color/named_colors.html)."
   ]
  },
  {
   "cell_type": "code",
   "execution_count": null,
   "id": "eff93183",
   "metadata": {},
   "outputs": [],
   "source": [
    "ax = data.plot.scatter(x='Pop_2020', y=\"city_1_pop\", color='Red',label=\"Largest Cities\", marker='^')\n",
    "data.plot.scatter(x='Pop_2020', y='Capital_pop', color='b', label=\"Capital Cities\", ax=ax)"
   ]
  },
  {
   "cell_type": "markdown",
   "id": "9e180a3c",
   "metadata": {},
   "source": [
    "Color is a powerful tool but doesn't work for everyone. Markers are a great tool you can use to supplement color."
   ]
  },
  {
   "cell_type": "markdown",
   "id": "8afe7b7d",
   "metadata": {},
   "source": [
    "You can also use something called a [colormap](https://matplotlib.org/stable/gallery/color/colormap_reference.html) to change the full color scheme of a plot.\n",
    "\n",
    "Be careful when working with colormaps, they have a tendancy to overwhelm the goal of your plot."
   ]
  },
  {
   "cell_type": "code",
   "execution_count": null,
   "id": "9c026ea3",
   "metadata": {},
   "outputs": [],
   "source": [
    "data[['USPS_code','city_1_pop','city_2_pop','city_3_pop','city_4_pop','city_5_pop']].plot.bar(stacked=True, legend=False, colormap=\"Dark2\")"
   ]
  },
  {
   "cell_type": "code",
   "execution_count": null,
   "id": "80ea8cfa",
   "metadata": {},
   "outputs": [],
   "source": [
    "p1['Pop_2020'].plot.pie(colormap='flag')"
   ]
  },
  {
   "cell_type": "markdown",
   "id": "3eaac1c0",
   "metadata": {},
   "source": [
    "#### Titles"
   ]
  },
  {
   "cell_type": "markdown",
   "id": "23f47c3a",
   "metadata": {},
   "source": [
    "You can add titles to both your axes and your overall graph."
   ]
  },
  {
   "cell_type": "code",
   "execution_count": null,
   "id": "f7090b2d",
   "metadata": {},
   "outputs": [],
   "source": [
    "ax = data.plot.scatter(x='Pop_2020', y=\"city_1_pop\", color='Red',label=\"Largest Cities\", marker='^')\n",
    "data.plot.scatter(x='Pop_2020', y='Capital_pop', label=\"Capital Cities\", ax=ax, xlabel=\"2020 State Population\", ylabel=\"Population of Select Cities\", title='State and City Populations - 2020')"
   ]
  },
  {
   "cell_type": "markdown",
   "id": "246fb596",
   "metadata": {},
   "source": [
    "#### Grid"
   ]
  },
  {
   "cell_type": "markdown",
   "id": "d8afab1f",
   "metadata": {},
   "source": [
    "Sometimes (certainly not always) you'll want to add a grid to your graph for added specificity."
   ]
  },
  {
   "cell_type": "code",
   "execution_count": null,
   "id": "e7ddbae6",
   "metadata": {},
   "outputs": [],
   "source": [
    "ax = data.plot.scatter(x='Pop_2020', y=\"city_1_pop\", color='Red',label=\"Largest Cities\", marker='^')\n",
    "data.plot.scatter(x='Pop_2020', y='Capital_pop', label=\"Capital Cities\", ax=ax, xlabel=\"2020 State Population\", ylabel=\"Population of Select Cities\", title='State and City Populations - 2020',grid=True)"
   ]
  },
  {
   "cell_type": "markdown",
   "id": "4721b68f",
   "metadata": {},
   "source": [
    "#### Saving your plot"
   ]
  },
  {
   "cell_type": "markdown",
   "id": "a226348e",
   "metadata": {},
   "source": [
    "Once you have your plot the way you like it, you'll want to export it. There are multiple formats you can export in, but pdf and png are likely the ones you'll want to utilize."
   ]
  },
  {
   "cell_type": "code",
   "execution_count": null,
   "id": "8c90890b",
   "metadata": {},
   "outputs": [],
   "source": [
    "ax = data.plot.scatter(x='Pop_2020', y=\"city_1_pop\", color='red',label=\"Largest Cities\", marker='^')\n",
    "plt = data.plot.scatter(x='Pop_2020', y='Capital_pop', color='blue',label=\"Capital Cities\", ax=ax, xlabel=\"2020 State Population\", ylabel=\"Population of Select Cities\", title='State and City Populations - 2020',grid=True)"
   ]
  },
  {
   "cell_type": "code",
   "execution_count": null,
   "id": "764ed987",
   "metadata": {},
   "outputs": [],
   "source": [
    "plt.figure.savefig('figure.pdf')"
   ]
  },
  {
   "cell_type": "markdown",
   "id": "f22849fc",
   "metadata": {},
   "source": [
    "## Other plotting libraries"
   ]
  },
  {
   "cell_type": "markdown",
   "id": "87ba280b",
   "metadata": {},
   "source": [
    "Matplotlib and Seaborn both have extensive and impressive catalogues of sample plots that I'd encourage you to explore and pull from"
   ]
  },
  {
   "cell_type": "markdown",
   "id": "9d15deef",
   "metadata": {},
   "source": [
    "#### Matplotlib Examples\n",
    "\n",
    "Here are some links to really cool matplotlib examples:\n",
    "\n",
    "- [Matplotlib samples](https://matplotlib.org/stable/tutorials/introductory/sample_plots.html)\n",
    "- [Matplotlib gallery](https://matplotlib.org/stable/gallery/index.html)\n",
    "- [50 cool plots](https://www.machinelearningplus.com/plots/top-50-matplotlib-visualizations-the-master-plots-python/)\n",
    "- [Matplotlib cheatsheet](https://github.com/rougier/matplotlib-cheatsheet)\n",
    "- [Scientific Visualization with Matplotlib](https://github.com/rougier/scientific-visualization-book)"
   ]
  },
  {
   "cell_type": "code",
   "execution_count": null,
   "id": "d63b997e",
   "metadata": {},
   "outputs": [],
   "source": [
    "\n",
    "import matplotlib.pyplot as plt\n",
    "from matplotlib import cm\n",
    "from matplotlib.ticker import LinearLocator\n",
    "import numpy as np\n",
    "\n",
    "fig, ax = plt.subplots(subplot_kw={\"projection\": \"3d\"})\n",
    "\n",
    "# Make data.\n",
    "X = np.arange(-5, 5, 0.25)\n",
    "Y = np.arange(-5, 5, 0.25)\n",
    "X, Y = np.meshgrid(X, Y)\n",
    "R = np.sqrt(X**2 + Y**2)\n",
    "Z = np.sin(R)\n",
    "\n",
    "# Plot the surface.\n",
    "surf = ax.plot_surface(X, Y, Z, cmap=cm.coolwarm,\n",
    "                       linewidth=0, antialiased=False)\n",
    "\n",
    "# Customize the z axis.\n",
    "ax.set_zlim(-1.01, 1.01)\n",
    "ax.zaxis.set_major_locator(LinearLocator(10))\n",
    "# A StrMethodFormatter is used automatically\n",
    "ax.zaxis.set_major_formatter('{x:.02f}')\n",
    "\n",
    "# Add a color bar which maps values to colors.\n",
    "fig.colorbar(surf, shrink=0.5, aspect=5)\n",
    "\n",
    "plt.show()"
   ]
  },
  {
   "cell_type": "code",
   "execution_count": null,
   "id": "4aeb8724",
   "metadata": {},
   "outputs": [],
   "source": [
    "import matplotlib.pyplot as plt\n",
    "import numpy as np\n",
    "\n",
    "np.random.seed(19680801)\n",
    "data = np.random.randn(2, 100)\n",
    "\n",
    "fig, axs = plt.subplots(2, 2, figsize=(5, 5))\n",
    "axs[0, 0].hist(data[0])\n",
    "axs[1, 0].scatter(data[0], data[1])\n",
    "axs[0, 1].plot(data[0], data[1])\n",
    "axs[1, 1].hist2d(data[0], data[1])\n",
    "\n",
    "plt.show()"
   ]
  },
  {
   "cell_type": "markdown",
   "id": "bb48128a",
   "metadata": {},
   "source": [
    "#### Seaborn Examples\n",
    "\n",
    "Here are some links to really cool seaborn examples:\n",
    "\n",
    "- [Seaborn tutorial](https://seaborn.pydata.org/tutorial.html)\n",
    "- [Seaborn gallery](https://seaborn.pydata.org/examples/index.html)\n",
    "- [Seaborn Guide](https://jakevdp.github.io/PythonDataScienceHandbook/04.14-visualization-with-seaborn.html)"
   ]
  },
  {
   "cell_type": "code",
   "execution_count": null,
   "id": "4b8abe39",
   "metadata": {},
   "outputs": [],
   "source": [
    "\n",
    "\n",
    "import numpy as np\n",
    "import seaborn as sns\n",
    "import matplotlib.pyplot as plt\n",
    "sns.set_theme(style=\"dark\")\n",
    "\n",
    "# Simulate data from a bivariate Gaussian\n",
    "n = 10000\n",
    "mean = [0, 0]\n",
    "cov = [(2, .4), (.4, .2)]\n",
    "rng = np.random.RandomState(0)\n",
    "x, y = rng.multivariate_normal(mean, cov, n).T\n",
    "\n",
    "# Draw a combo histogram and scatterplot with density contours\n",
    "f, ax = plt.subplots(figsize=(6, 6))\n",
    "sns.scatterplot(x=x, y=y, s=5, color=\".15\")\n",
    "sns.histplot(x=x, y=y, bins=50, pthresh=.1, cmap=\"mako\")\n",
    "sns.kdeplot(x=x, y=y, levels=5, color=\"w\", linewidths=1)\n",
    "\n"
   ]
  },
  {
   "cell_type": "code",
   "execution_count": null,
   "id": "f72b8c4f",
   "metadata": {},
   "outputs": [],
   "source": []
  }
 ],
 "metadata": {
  "jupytext": {
   "formats": "ipynb"
  },
  "kernelspec": {
   "display_name": "Python 3",
   "language": "python",
   "name": "python3"
  }
 },
 "nbformat": 4,
 "nbformat_minor": 5
}
